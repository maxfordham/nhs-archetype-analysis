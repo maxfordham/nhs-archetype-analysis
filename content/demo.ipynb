{
 "cells": [
  {
   "cell_type": "code",
   "execution_count": 1,
   "metadata": {
    "tags": []
   },
   "outputs": [],
   "source": [
    "import pandas as pd\n",
    "import numpy as np\n",
    "import ipywidgets as w\n",
    "from IPython.display import HTML\n",
    "import bqplot as bq\n",
    "import copy\n",
    "import traitlets as tr"
   ]
  },
  {
   "cell_type": "code",
   "execution_count": 125,
   "metadata": {},
   "outputs": [
    {
     "data": {
      "application/vnd.jupyter.widget-view+json": {
       "model_id": "40f61ef7acfe4ff68a18f62e54f64263",
       "version_major": 2,
       "version_minor": 0
      },
      "text/plain": [
       "EnergyConsumption(children=(HBox(children=(VBox(children=(HBox(children=(Image(value=b'\\x89PNG\\r\\n\\x1a\\n\\x00\\x…"
      ]
     },
     "metadata": {},
     "output_type": "display_data"
    }
   ],
   "source": [
    "MXF_ICON = w.Image(\n",
    "    value=open(\"mxf-open-circle-icon.png\", \"rb\").read(),\n",
    "    format='png',\n",
    "    width=60,\n",
    "    height=40,\n",
    ")\n",
    "\n",
    "MAP_COLORS = {'Heating': '#c22324',\n",
    " 'Domestic Hot Water': '#ff7f0e',\n",
    " 'Heating & Domestic Hot Water': '#eb4f18',\n",
    " 'Cooling': '#1f77b4',\n",
    " 'Auxiliary': '#9467bd',\n",
    " 'Lighting': '#17becf',\n",
    " 'Small Power': '#d3d3d3',\n",
    " 'IT/Servers': '#8c564b',\n",
    " 'PV Generation': '#bcbd22',\n",
    " 'Catering': '#2ca02c',\n",
    " 'Lifts': '#e377c2',\n",
    " 'Other': '#000000',\n",
    " 'Unknown': '#7C7270'}\n",
    "\n",
    "TITLE = \"<h1>NHS Archetypes - Decarbonisation Pathways Analysis and Visualisation</h1>\"\n",
    "DESCRIPTION = \"\"\"<ul>\n",
    "  <li>This app is a dummy demo, illustrating the type of front-end that can be expected for visualising different decarbonisation pathways</li>\n",
    "  <li>It runs on <code>python</code> code in the browser and can be deployed as a static HTML website</li>\n",
    "  <li>This is an illustrative example but the calculation would be developed to consider the different archetypes within the NHS portfolio</li>\n",
    "  <li>Choose from the possible design interventions to understand the incremental savings that are available (the numbers are made up)</li>\n",
    "</ul> \n",
    "\"\"\"\n",
    "\n",
    "SELECT_DESCRIPTION = \"<b>Cntrl+click to Select multiple possible the design interventions:</b>\"\n",
    "Y_AXIS_LABEL = \"Building Carbon Content (tonnes of CO2/yr)\"\n",
    "FIGURE_TITLE = \"Annual Carbon\"\n",
    "\n",
    "def calc_savings(data, selected):\n",
    "    data = data.copy()\n",
    "    keys = list(data.keys())\n",
    "    for n, x in enumerate(selected):\n",
    "        data[x] = data[keys[n]] - (data[keys[n]] * savings[x])\n",
    "        keys = list(data.keys())\n",
    "    return data\n",
    "\n",
    "def create_plot(x, y, colors):\n",
    "    # create two vectors x and y to plot a bar chart\n",
    "    # 1. Create the scales\n",
    "    xs = bq.OrdinalScale()  # ordinal scale to represent categorical data\n",
    "    ys = bq.LinearScale()\n",
    "    \n",
    "    # 2. Create the axes for x and y\n",
    "    xax = bq.Axis(scale=xs, label=\"\", grid_lines=\"none\")  # no grid lines needed for x\n",
    "    yax = bq.Axis(\n",
    "        scale=ys, orientation=\"vertical\", label=Y_AXIS_LABEL #, tick_format=\".0%\"\n",
    "    )  # note the use of tick_format to format ticks\n",
    "    \n",
    "    # 3. Create a Bars mark by passing in the scales\n",
    "    bar = bq.Bars(x=x, y=y, scales={\"x\": xs, \"y\": ys}, padding=0.5, colors=colors)\n",
    "    \n",
    "    # 4. Create a Figure object by assembling marks and axes\n",
    "    fig = bq.Figure(marks=[bar], axes=[xax, yax], title=FIGURE_TITLE)\n",
    "    return fig, bar\n",
    "\n",
    "def update_plot(x, y, bar):\n",
    "    # use the hold_sync() context manager\n",
    "    with bar.hold_sync():\n",
    "        bar.x = x\n",
    "        bar.y = y\n",
    "\n",
    "def get_xy(data):\n",
    "    return list(data.keys()), np.transpose(np.array(list(data.values())))\n",
    "\n",
    "class EnergyConsumption(w.VBox):     \n",
    "    total_saving = tr.Float()\n",
    "\n",
    "    @tr.observe(\"total_saving\")\n",
    "    def obs_total_saving(self, on_change):\n",
    "        self.html_total_saving.value = f\"<b>Total Saving</b> = {self.total_saving}%\"\n",
    "        \n",
    "    def __init__(self, data: dict[str, np.array], savings, colors, selected = []):\n",
    "        if \"existing building\" not in data:\n",
    "            raise ValueError(\"`existing building` data missing.\")\n",
    "        self.data = data\n",
    "        self.savings = savings\n",
    "        self.colors = colors\n",
    "        self.html_total_saving = w.HTML()\n",
    "        self.hbx_title = w.HBox([MXF_ICON, w.HTML(TITLE)])\n",
    "        self.select = w.SelectMultiple(value=selected, options=list(self.savings.keys()), layout={\"height\": \"150px\", \"width\": \"400px\"})\n",
    "        self.vbx_select = w.VBox([w.HTML(SELECT_DESCRIPTION), self.select])\n",
    "        self.hbx_topbar = w.HBox([w.VBox([self.hbx_title, self.html_total_saving, w.HTML(DESCRIPTION)]), self.vbx_select], layout={\"justify_content\":\"space-between\"})\n",
    "        x, y = get_xy(self.data)\n",
    "        self.fig, self.bar = create_plot(x, y, self.colors)\n",
    "        super().__init__([self.hbx_topbar, self.fig])\n",
    "        self._init_controls()\n",
    "\n",
    "    def _init_controls(self):\n",
    "        self.select.observe(self._update)\n",
    "\n",
    "    def _update(self, on_change):\n",
    "        self.calc_data = calc_savings(self.data, self.select.value)\n",
    "        x, y = get_xy(self.calc_data)\n",
    "        update_plot(x, y, self.bar)\n",
    "        _ = list(chart.calc_data.values())\n",
    "        self.total_saving = np.round((_[0].sum() - _[-1].sum()) / _[0].sum(), 2)*100\n",
    "\n",
    "        \n",
    "labels = ['Heating', 'Domestic Hot Water'] # , 'Auxiliary', 'Lighting', 'Small Power', 'PV Generation'\n",
    "colors = [MAP_COLORS[x] for x in labels]\n",
    "data = {\n",
    "    \"existing building\": np.array([60, 20]),\n",
    "}\n",
    "savings = {\n",
    "    \"replace glazing\": 0.1,\n",
    "    \"improve air tightness\": 0.1,\n",
    "    \"add roof insulation\": 0.1,\n",
    "    \"replace gas heating for air source heat pump\": 0.7\n",
    "}\n",
    "\n",
    "chart = EnergyConsumption(data, savings, colors)\n",
    "display(chart)"
   ]
  }
 ],
 "metadata": {
  "kernelspec": {
   "display_name": "Python 3 (ipykernel)",
   "language": "python",
   "name": "python3"
  },
  "language_info": {
   "codemirror_mode": {
    "name": "ipython",
    "version": 3
   },
   "file_extension": ".py",
   "mimetype": "text/x-python",
   "name": "python",
   "nbconvert_exporter": "python",
   "pygments_lexer": "ipython3",
   "version": "3.13.0"
  },
  "vscode": {
   "interpreter": {
    "hash": "e7370f93d1d0cde622a1f8e1c04877d8463912d04d973331ad4851f04de6915a"
   }
  }
 },
 "nbformat": 4,
 "nbformat_minor": 4
}
