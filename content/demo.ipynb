{
 "cells": [
  {
   "cell_type": "code",
   "execution_count": 1,
   "metadata": {
    "tags": []
   },
   "outputs": [],
   "source": [
    "import pandas as pd\n",
    "import numpy as np\n",
    "import ipywidgets as widgets\n",
    "from IPython.display import HTML"
   ]
  },
  {
   "cell_type": "code",
   "execution_count": 2,
   "metadata": {
    "tags": []
   },
   "outputs": [],
   "source": [
    "from bqplot import Figure, Scatter, Axis, LinearScale"
   ]
  },
  {
   "cell_type": "code",
   "execution_count": 3,
   "metadata": {
    "tags": []
   },
   "outputs": [],
   "source": [
    "EXPLANATION = \"\"\"\\\n",
    "<div class=\"app-sidebar\">\n",
    "<p><em>Compare different development indicators.</em><p>\n",
    "\n",
    "<p>Select what indicators to plot in the dropdowns, and use the slider\n",
    "to sub-select a fraction of years to include in the plot.</p>\n",
    "\n",
    "<p>Data and idea copied from the <a href=\"https://dash.plot.ly/getting-started-part-2\">\n",
    "Plotly Dash documentation</a>.</p>\n",
    "\n",
    "<p>This example demonstrates combining <a href=\"https://bqplot.github.io/bqplot\">\n",
    "bqplot</a> with Jupyter widgets.</p>\n",
    "</div>\n",
    "\"\"\""
   ]
  },
  {
   "cell_type": "code",
   "execution_count": 4,
   "metadata": {
    "tags": []
   },
   "outputs": [
    {
     "data": {
      "text/html": [
       "<style>\n",
       ".app-subtitle {\n",
       "    font-size: 1.5em;\n",
       "}\n",
       "\n",
       ".app-subtitle a {\n",
       "    color: #106ba3;\n",
       "}\n",
       "\n",
       ".app-subtitle a:hover {\n",
       "    text-decoration: underline;\n",
       "}\n",
       "\n",
       ".app-sidebar p {\n",
       "    margin-bottom: 1em;\n",
       "    line-height: 1.7;\n",
       "}\n",
       "\n",
       ".app-sidebar a {\n",
       "    color: #106ba3;\n",
       "}\n",
       "\n",
       ".app-sidebar a:hover {\n",
       "    text-decoration: underline;\n",
       "}\n",
       "</style>\n"
      ],
      "text/plain": [
       "<IPython.core.display.HTML object>"
      ]
     },
     "execution_count": 4,
     "metadata": {},
     "output_type": "execute_result"
    }
   ],
   "source": [
    "HTML(\"\"\"\\\n",
    "<style>\n",
    ".app-subtitle {\n",
    "    font-size: 1.5em;\n",
    "}\n",
    "\n",
    ".app-subtitle a {\n",
    "    color: #106ba3;\n",
    "}\n",
    "\n",
    ".app-subtitle a:hover {\n",
    "    text-decoration: underline;\n",
    "}\n",
    "\n",
    ".app-sidebar p {\n",
    "    margin-bottom: 1em;\n",
    "    line-height: 1.7;\n",
    "}\n",
    "\n",
    ".app-sidebar a {\n",
    "    color: #106ba3;\n",
    "}\n",
    "\n",
    ".app-sidebar a:hover {\n",
    "    text-decoration: underline;\n",
    "}\n",
    "</style>\n",
    "\"\"\")"
   ]
  },
  {
   "cell_type": "code",
   "execution_count": 5,
   "metadata": {
    "tags": []
   },
   "outputs": [],
   "source": [
    "class App:\n",
    "\n",
    "    def __init__(self, df):\n",
    "        self._df = df\n",
    "        available_indicators = self._df['Indicator Name'].unique()\n",
    "        self._x_dropdown = self._create_indicator_dropdown(available_indicators, 0)\n",
    "        self._y_dropdown = self._create_indicator_dropdown(available_indicators, 1)\n",
    "\n",
    "        x_scale = LinearScale()\n",
    "        y_scale = LinearScale()\n",
    "\n",
    "        self._x_axis = Axis(scale=x_scale, label=\"X\")\n",
    "        self._y_axis = Axis(scale=y_scale, orientation=\"vertical\", label=\"Y\")\n",
    "\n",
    "        self._scatter = Scatter(\n",
    "            x=[], y=[], scales={\"x\": x_scale, \"y\": y_scale}\n",
    "        )\n",
    "\n",
    "        self._figure = Figure(marks=[self._scatter], axes=[self._x_axis, self._y_axis], layout=dict(width=\"99%\"), animation_duration=1000)\n",
    "\n",
    "        self._year_slider, year_slider_box = self._create_year_slider(\n",
    "            min(df['Year']), max(df['Year'])\n",
    "        )\n",
    "        _app_container = widgets.VBox([\n",
    "            widgets.HBox([self._x_dropdown, self._y_dropdown]),\n",
    "            self._figure,\n",
    "            year_slider_box\n",
    "        ], layout=widgets.Layout(align_items='center', flex='3 0 auto'))\n",
    "        self.container = widgets.VBox([\n",
    "            widgets.HTML(\n",
    "                (\n",
    "                    '<h1>Development indicators. A Voici dashboard, running entirely in your browser!</h1>'\n",
    "                    '<h2 class=\"app-subtitle\"><a href=\"https://github.com/pbugnion/voila-gallery/blob/master/country-indicators/index.ipynb\">Link to code</a></h2>'\n",
    "                ),\n",
    "                layout=widgets.Layout(margin='0 0 5em 0')\n",
    "            ),\n",
    "            widgets.HBox([\n",
    "                _app_container,\n",
    "                widgets.HTML(EXPLANATION, layout=widgets.Layout(margin='0 0 0 2em'))\n",
    "            ])\n",
    "        ], layout=widgets.Layout(flex='1 1 auto', margin='0 auto 0 auto', max_width='1024px'))\n",
    "        self._update_app()\n",
    "\n",
    "    @classmethod\n",
    "    def from_csv(cls, path):\n",
    "        df = pd.read_csv(path)\n",
    "        return cls(df)\n",
    "\n",
    "    def _create_indicator_dropdown(self, indicators, initial_index):\n",
    "        dropdown = widgets.Dropdown(options=indicators, value=indicators[initial_index])\n",
    "        dropdown.observe(self._on_change, names=['value'])\n",
    "        return dropdown\n",
    "\n",
    "    def _create_year_slider(self, min_year, max_year):\n",
    "        year_slider_label = widgets.Label('Year range: ')\n",
    "        year_slider = widgets.IntRangeSlider(\n",
    "            min=min_year, max=max_year,\n",
    "            layout=widgets.Layout(width='500px'),\n",
    "            continuous_update=False\n",
    "        )\n",
    "        year_slider.observe(self._on_change, names=['value'])\n",
    "        year_slider_box = widgets.HBox([year_slider_label, year_slider])\n",
    "        return year_slider, year_slider_box\n",
    "\n",
    "    def _on_change(self, _):\n",
    "        self._update_app()\n",
    "\n",
    "    def _update_app(self):\n",
    "        x_indicator = self._x_dropdown.value\n",
    "        y_indicator = self._y_dropdown.value\n",
    "        year_range = self._year_slider.value\n",
    "\n",
    "        with self._scatter.hold_sync():\n",
    "            df = self._df[self._df['Year'].between(*year_range)].dropna()\n",
    "            x = df[df['Indicator Name'] == x_indicator]['Value']\n",
    "            y = df[df['Indicator Name'] == y_indicator]['Value']\n",
    "\n",
    "            self._x_axis.label = x_indicator\n",
    "            self._y_axis.label = y_indicator\n",
    "\n",
    "            self._scatter.default_opacities = [0.2]\n",
    "\n",
    "            self._scatter.x = x\n",
    "            self._scatter.y = y"
   ]
  },
  {
   "cell_type": "code",
   "execution_count": 6,
   "metadata": {
    "tags": []
   },
   "outputs": [
    {
     "data": {
      "application/vnd.jupyter.widget-view+json": {
       "model_id": "7de39ac911f5494abb46bb6fab0bcbc1",
       "version_major": 2,
       "version_minor": 0
      },
      "text/plain": [
       "VBox(children=(HTML(value='<h1>Development indicators. A Voici dashboard, running entirely in your browser!</h…"
      ]
     },
     "execution_count": 6,
     "metadata": {},
     "output_type": "execute_result"
    }
   ],
   "source": [
    "app = App.from_csv(\"indicators.csv\")\n",
    "\n",
    "app.container"
   ]
  },
  {
   "cell_type": "code",
   "execution_count": 88,
   "metadata": {},
   "outputs": [
    {
     "data": {
      "application/vnd.jupyter.widget-view+json": {
       "model_id": "0564d336d9e54c1ba9f8434beb9d8004",
       "version_major": 2,
       "version_minor": 0
      },
      "text/plain": [
       "Figure(axes=[Axis(scale=OrdinalScale()), Axis(orientation='vertical', scale=LinearScale())], fig_margin={'top'…"
      ]
     },
     "execution_count": 88,
     "metadata": {},
     "output_type": "execute_result"
    }
   ],
   "source": [
    "import bqplot.pyplot as plt\n",
    "import numpy as np\n",
    "\n",
    "def transpose(li: list[list]):\n",
    "    return list(map(list, zip(*li)))\n",
    "\n",
    "map_colors = {'Heating': '#c22324',\n",
    " 'Domestic Hot Water': '#ff7f0e',\n",
    " 'Heating & Domestic Hot Water': '#eb4f18',\n",
    " 'Cooling': '#1f77b4',\n",
    " 'Auxiliary': '#9467bd',\n",
    " 'Lighting': '#17becf',\n",
    " 'Small Power': '#d3d3d3',\n",
    " 'IT/Servers': '#8c564b',\n",
    " 'PV Generation': '#bcbd22',\n",
    " 'Catering': '#2ca02c',\n",
    " 'Lifts': '#e377c2',\n",
    " 'Other': '#000000',\n",
    " 'Unknown': '#7C7270'}\n",
    "\n",
    "labels = ['Heating', 'Domestic Hot Water', 'Cooling', 'Auxiliary', 'Lighting', 'Small Power', 'PV Generation']\n",
    "colors = [map_colors[x] for x in labels]\n",
    "\n",
    "fig = plt.figure(title=\"Stacked Bar Chart\")\n",
    "x = [\n",
    "    \"existing building\",\n",
    "    \"replace glazing\",\n",
    "    \"improve airtightness\",\n",
    "    \"replace heat source with an efficient ASHP\",\n",
    "    \"update lighting to LED\",\n",
    "    \"add PV panels\"\n",
    "]\n",
    "baseline = [7, 3, 2, 1, 1, 3, 0]\n",
    "input_y = [\n",
    "    [7, 3, 2, 1, 1, 3, 0],\n",
    "    [5, 3, 2, 1, 1, 3, 0],\n",
    "    [4, 3, 2, 1, 1, 3, 0],\n",
    "    # [4, 3, 2, 1, 1, 3, 0],\n",
    "    # [7, 3, 2, 1, 1, 3, 0],\n",
    "    # [7, 3, 2, 1, 1, 3, 0],\n",
    "]\n",
    "\n",
    "\n",
    "y = transpose(input_y)\n",
    "stacked_bar = plt.bar(x, y, type=\"stacked\", padding=.4, colors=colors, labels=labels, display_legend=True, legend_location=\"top\")\n",
    "                      \n",
    "\n",
    "fig"
   ]
  },
  {
   "cell_type": "code",
   "execution_count": 93,
   "metadata": {},
   "outputs": [
    {
     "data": {
      "application/vnd.jupyter.widget-view+json": {
       "model_id": "21755fd46f5340cd89e8fb57cec3e475",
       "version_major": 2,
       "version_minor": 0
      },
      "text/plain": [
       "SelectMultiple(layout=Layout(height='120px'), options=('existing building', 'replace glazing', 'improve airtig…"
      ]
     },
     "execution_count": 93,
     "metadata": {},
     "output_type": "execute_result"
    }
   ],
   "source": [
    "import ipywidgets as w\n",
    "\n",
    "w.SelectMultiple(options=x, layout={\"height\": \"120px\"})"
   ]
  },
  {
   "cell_type": "code",
   "execution_count": 68,
   "metadata": {},
   "outputs": [],
   "source": [
    "stacked_bar.y = transpose(input_y[0:3])"
   ]
  },
  {
   "cell_type": "code",
   "execution_count": 66,
   "metadata": {},
   "outputs": [
    {
     "data": {
      "text/plain": [
       "[[7, 5, 4, 7, 7, 7],\n",
       " [3, 3, 3, 3, 3, 3],\n",
       " [2, 2, 2, 2, 2, 2],\n",
       " [1, 1, 1, 1, 1, 1],\n",
       " [1, 1, 1, 1, 1, 1],\n",
       " [3, 3, 3, 3, 3, 3],\n",
       " [0, 0, 0, 0, 0, 0]]"
      ]
     },
     "execution_count": 66,
     "metadata": {},
     "output_type": "execute_result"
    }
   ],
   "source": [
    "transpose(input_y[0:3])"
   ]
  },
  {
   "cell_type": "code",
   "execution_count": 71,
   "metadata": {},
   "outputs": [
    {
     "data": {
      "text/plain": [
       "array([0.82076277, 0.69721998, 0.62887945, 0.6341858 , 0.68257821])"
      ]
     },
     "execution_count": 71,
     "metadata": {},
     "output_type": "execute_result"
    }
   ],
   "source": [
    "y"
   ]
  },
  {
   "cell_type": "code",
   "execution_count": 94,
   "metadata": {},
   "outputs": [
    {
     "data": {
      "application/vnd.jupyter.widget-view+json": {
       "model_id": "37791b8cdd254b9ab0bbc42d241c5ad8",
       "version_major": 2,
       "version_minor": 0
      },
      "text/plain": [
       "Figure(axes=[Axis(grid_lines='none', label='X', scale=OrdinalScale()), Axis(label='Y', orientation='vertical',…"
      ]
     },
     "execution_count": 94,
     "metadata": {},
     "output_type": "execute_result"
    }
   ],
   "source": [
    "import bqplot as bq\n",
    "\n",
    "# create two vectors x and y to plot a bar chart\n",
    "x = list(\"ABCDE\")\n",
    "y = np.random.rand(5)\n",
    "y = np.random.rand(3, 5)\n",
    "\n",
    "# 1. Create the scales\n",
    "xs = bq.OrdinalScale()  # ordinal scale to represent categorical data\n",
    "ys = bq.LinearScale()\n",
    "\n",
    "# 2. Create the axes for x and y\n",
    "xax = bq.Axis(scale=xs, label=\"X\", grid_lines=\"none\")  # no grid lines needed for x\n",
    "yax = bq.Axis(\n",
    "    scale=ys, orientation=\"vertical\", label=\"Y\", tick_format=\".0%\"\n",
    ")  # note the use of tick_format to format ticks\n",
    "\n",
    "colors=[\"orangered\", \"steelblue\", \"limegreen\"]\n",
    "# 3. Create a Bars mark by passing in the scales\n",
    "bar = bq.Bars(x=x, y=y, scales={\"x\": xs, \"y\": ys}, padding=0.5, colors=colors, labels=colors, display_legend=True)\n",
    "\n",
    "# 4. Create a Figure object by assembling marks and axes\n",
    "bq.Figure(marks=[bar], axes=[xax, yax], title=\"Bar Chart\", legend_location=\"top\")"
   ]
  },
  {
   "cell_type": "code",
   "execution_count": null,
   "metadata": {},
   "outputs": [],
   "source": []
  }
 ],
 "metadata": {
  "kernelspec": {
   "display_name": "Python 3 (ipykernel)",
   "language": "python",
   "name": "python3"
  },
  "language_info": {
   "codemirror_mode": {
    "name": "ipython",
    "version": 3
   },
   "file_extension": ".py",
   "mimetype": "text/x-python",
   "name": "python",
   "nbconvert_exporter": "python",
   "pygments_lexer": "ipython3",
   "version": "3.13.0"
  },
  "vscode": {
   "interpreter": {
    "hash": "e7370f93d1d0cde622a1f8e1c04877d8463912d04d973331ad4851f04de6915a"
   }
  }
 },
 "nbformat": 4,
 "nbformat_minor": 4
}
