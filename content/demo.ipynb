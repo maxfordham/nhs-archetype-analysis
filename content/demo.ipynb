{
 "cells": [
  {
   "cell_type": "code",
   "execution_count": 1,
   "metadata": {
    "tags": []
   },
   "outputs": [],
   "source": [
    "import pandas as pd\n",
    "import numpy as np\n",
    "import ipywidgets as widgets\n",
    "from IPython.display import HTML"
   ]
  },
  {
   "cell_type": "code",
   "execution_count": 2,
   "metadata": {
    "tags": []
   },
   "outputs": [],
   "source": [
    "import bqplot as bq\n",
    "from bqplot import Figure, Scatter, Axis, LinearScale"
   ]
  },
  {
   "cell_type": "code",
   "execution_count": 3,
   "metadata": {},
   "outputs": [
    {
     "data": {
      "application/vnd.jupyter.widget-view+json": {
       "model_id": "a9bac61e76ce41fb816c2118df7f8282",
       "version_major": 2,
       "version_minor": 0
      },
      "text/plain": [
       "EnergyConsumption(children=(SelectMultiple(layout=Layout(height='120px'), options=('replace glazing', 'improve…"
      ]
     },
     "metadata": {},
     "output_type": "display_data"
    }
   ],
   "source": [
    "import copy\n",
    "import traitlets as tr\n",
    "\n",
    "map_colors = {'Heating': '#c22324',\n",
    " 'Domestic Hot Water': '#ff7f0e',\n",
    " 'Heating & Domestic Hot Water': '#eb4f18',\n",
    " 'Cooling': '#1f77b4',\n",
    " 'Auxiliary': '#9467bd',\n",
    " 'Lighting': '#17becf',\n",
    " 'Small Power': '#d3d3d3',\n",
    " 'IT/Servers': '#8c564b',\n",
    " 'PV Generation': '#bcbd22',\n",
    " 'Catering': '#2ca02c',\n",
    " 'Lifts': '#e377c2',\n",
    " 'Other': '#000000',\n",
    " 'Unknown': '#7C7270'}\n",
    "\n",
    "labels = ['Heating', 'Domestic Hot Water', 'Cooling', 'Auxiliary', 'Lighting', 'Small Power', 'PV Generation']\n",
    "colors = [map_colors[x] for x in labels]\n",
    "\n",
    "class EnergyConsumption(widgets.VBox):     \n",
    "    def __init__(self, data: dict[str, np.array]):\n",
    "        if \"existing building\" not in data:\n",
    "            raise ValueError(\"`existing building` data missing.\")\n",
    "        self.data = data\n",
    "        options = [k for k in data.keys() if k != \"existing building\"]\n",
    "        self.select = widgets.SelectMultiple(options=options, layout={\"height\": \"120px\"})\n",
    "        self.xs = bq.OrdinalScale()  # ordinal scale to represent categorical data\n",
    "        self.ys = bq.LinearScale()\n",
    "        self.xax = bq.Axis(scale=self.xs, grid_lines=\"none\")  # no grid lines needed for x\n",
    "        self.yax = bq.Axis(\n",
    "            scale=self.ys, orientation=\"vertical\", label=\"Energy Consumption (kWh/m2/yr)\"\n",
    "        )\n",
    "        self.fig = bq.Figure(title=\"Energy Consumption\", axes=[self.xax, self.yax])\n",
    "        super().__init__([self.select, self.fig])\n",
    "        self._init_controls()\n",
    "        self._set_chart()\n",
    "\n",
    "    def _init_controls(self):\n",
    "        self.select.observe(self._set_chart)\n",
    "    \n",
    "    def _get_y(self, data: dict[str, np.array]) -> np.array:\n",
    "        data_copy = copy.deepcopy(data)\n",
    "        baseline = data_copy.pop(\"existing building\")\n",
    "        arrays = np.array(list(data_copy.values()))\n",
    "        input_y = np.array([baseline])\n",
    "        for idx, array in enumerate(arrays):\n",
    "            diff = input_y[-1] - arrays[idx]\n",
    "            input_y = np.vstack([input_y, diff])\n",
    "        return input_y\n",
    "\n",
    "    def _set_chart(self, onchange=None):\n",
    "        filtered_data = {\"existing building\": self.data[\"existing building\"]} | {k: v for k, v in self.data.items() if k in self.select.value}\n",
    "        self.bar = bq.Bars(\n",
    "            x=np.array(list(filtered_data.keys())),\n",
    "            y=np.transpose(self._get_y(filtered_data)),\n",
    "            scales={\"x\": self.xs, \"y\": self.ys},\n",
    "            type=\"stacked\",\n",
    "            colors=colors,\n",
    "            labels=labels,\n",
    "            display_legend=True,\n",
    "            padding=0.4,\n",
    "        )\n",
    "        self.xs.domain = [\"existing building\"] + list(self.select.value)\n",
    "        self.fig.marks = [self.bar]\n",
    "        \n",
    "\n",
    "data = {\n",
    "    \"existing building\": np.array([25, 23, 11, 13, 17, 15, 0]),\n",
    "    \"replace glazing\": np.array([8, 3, 2, 1, 1, 3, 0]),\n",
    "    \"improve airtightness\": np.array([4, 3, 2, 1, 1, 3, 0]),\n",
    "    \"replace heat source with an efficient ASHP\": np.array([4, 3, 2, 1, 1, 3, 0]),\n",
    "    \"update lighting to LED\": np.array([3, 3, 2, 1, 1, 3, 0]),\n",
    "    \"add PV panels\": np.array([2, 3, 1, 1, 1, 3, 0]),\n",
    "}\n",
    "\n",
    "chart = EnergyConsumption(data)\n",
    "display(chart)"
   ]
  }
 ],
 "metadata": {
  "kernelspec": {
   "display_name": "Python 3 (ipykernel)",
   "language": "python",
   "name": "python3"
  },
  "language_info": {
   "codemirror_mode": {
    "name": "ipython",
    "version": 3
   },
   "file_extension": ".py",
   "mimetype": "text/x-python",
   "name": "python",
   "nbconvert_exporter": "python",
   "pygments_lexer": "ipython3",
   "version": "3.10.14"
  },
  "vscode": {
   "interpreter": {
    "hash": "e7370f93d1d0cde622a1f8e1c04877d8463912d04d973331ad4851f04de6915a"
   }
  }
 },
 "nbformat": 4,
 "nbformat_minor": 4
}
