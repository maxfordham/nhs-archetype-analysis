{
 "cells": [
  {
   "cell_type": "code",
   "execution_count": 1,
   "metadata": {
    "tags": []
   },
   "outputs": [],
   "source": [
    "import pandas as pd\n",
    "import numpy as np\n",
    "import ipywidgets as w\n",
    "from IPython.display import HTML\n",
    "import bqplot as bq\n",
    "import copy\n",
    "import traitlets as tr"
   ]
  },
  {
   "cell_type": "code",
   "execution_count": 24,
   "metadata": {},
   "outputs": [
    {
     "data": {
      "application/vnd.jupyter.widget-view+json": {
       "model_id": "0062aa6e22ab486abd444b403a729135",
       "version_major": 2,
       "version_minor": 0
      },
      "text/plain": [
       "Image(value=b'\\x89PNG\\r\\n\\x1a\\n\\x00\\x00\\x00\\rIHDR\\x00\\x00\\x02X\\x00\\x00\\x02X\\x08\\x06\\x00\\x00\\x00\\xbef\\x98\\xdc\\x…"
      ]
     },
     "execution_count": 24,
     "metadata": {},
     "output_type": "execute_result"
    }
   ],
   "source": [
    "\n",
    "MXF_ICON = w.Image(\n",
    "    value=open(\"mxf-open-circle-icon.png\", \"rb\").read(),\n",
    "    format='png',\n",
    "    width=60,\n",
    "    height=40,\n",
    ")\n",
    "MXF_ICON"
   ]
  },
  {
   "cell_type": "code",
   "execution_count": 27,
   "metadata": {},
   "outputs": [
    {
     "data": {
      "application/vnd.jupyter.widget-view+json": {
       "model_id": "a48d27c82d7e421898fda7bfb85e314f",
       "version_major": 2,
       "version_minor": 0
      },
      "text/plain": [
       "EnergyConsumption(children=(HBox(children=(VBox(children=(HBox(children=(Image(value=b'\\x89PNG\\r\\n\\x1a\\n\\x00\\x…"
      ]
     },
     "metadata": {},
     "output_type": "display_data"
    }
   ],
   "source": [
    "MAP_COLORS = {'Heating': '#c22324',\n",
    " 'Domestic Hot Water': '#ff7f0e',\n",
    " 'Heating & Domestic Hot Water': '#eb4f18',\n",
    " 'Cooling': '#1f77b4',\n",
    " 'Auxiliary': '#9467bd',\n",
    " 'Lighting': '#17becf',\n",
    " 'Small Power': '#d3d3d3',\n",
    " 'IT/Servers': '#8c564b',\n",
    " 'PV Generation': '#bcbd22',\n",
    " 'Catering': '#2ca02c',\n",
    " 'Lifts': '#e377c2',\n",
    " 'Other': '#000000',\n",
    " 'Unknown': '#7C7270'}\n",
    "\n",
    "TITLE = \"<h1>NHS Archetypes - Decarbonisation Pathways Analysis and Visualisation</h1>\"\n",
    "DESCRIPTION = \"\"\"<ul>\n",
    "  <li>This app is a dummy demo, illustrating the type of front-end that can be expected for visualising different decarbonisation pathways</li>\n",
    "  <li>It runs on <code>python</code> code in the browser and can be deployed as a static HTML website</li>\n",
    "  <li>This is an illustrative example but the calculation would be developed to consider the different archetypes within the NHS portfolio</li>\n",
    "  <li>Choose from the possible design interventions to understand the incremental savings that are available (the numbers are made up)</li>\n",
    "</ul> \n",
    "\"\"\"\n",
    "\n",
    "SELECT_DESCRIPTION = \"<b>Cntrl+click to Select multiple possible the design interventions:</b>\"\n",
    "Y_AXIS_LABEL = \"Building Carbon Content (tonnes of CO2/yr)\"\n",
    "FIGURE_TITLE = \"Annual Energy Consumption\"\n",
    "\n",
    "class EnergyConsumption(w.VBox):     \n",
    "    total_saving = tr.Float()\n",
    "\n",
    "    @tr.observe(\"total_saving\")\n",
    "    def obs_total_saving(self, on_change):\n",
    "        self.html_total_saving.value = f\"<b>Total Saving</b> = {self.total_saving}%\"\n",
    "        \n",
    "    def __init__(self, data: dict[str, np.array], savings):\n",
    "        if \"existing building\" not in data:\n",
    "            raise ValueError(\"`existing building` data missing.\")\n",
    "        self.data = data\n",
    "        self.savings = savings\n",
    "        # options = [k for k in data.keys() if k != \"existing building\"]\n",
    "        self.html_total_saving = w.HTML()\n",
    "        self.hbx_title = w.HBox([MXF_ICON, w.HTML(TITLE)])\n",
    "        self.select = w.SelectMultiple(options=list(self.savings.keys()), layout={\"height\": \"150px\", \"width\": \"400px\"})\n",
    "        self.vbx_select = w.VBox([w.HTML(SELECT_DESCRIPTION), self.select])\n",
    "        self.hbx_topbar = w.HBox([w.VBox([self.hbx_title, self.html_total_saving, w.HTML(DESCRIPTION)]), self.vbx_select], layout={\"justify_content\":\"space-between\"})\n",
    "        self.xs = bq.OrdinalScale()  # ordinal scale to represent categorical data\n",
    "        self.ys = bq.LinearScale()\n",
    "        self.xax = bq.Axis(scale=self.xs, grid_lines=\"none\")  # no grid lines needed for x\n",
    "        self.yax = bq.Axis(\n",
    "            scale=self.ys, orientation=\"vertical\", label=Y_AXIS_LABEL\n",
    "        )\n",
    "        self.bar = bq.Bars(\n",
    "            x=np.array(list(self.data.keys())),\n",
    "            y=np.transpose(self.calc_y),\n",
    "            scales={\"x\": self.xs, \"y\": self.ys},\n",
    "            type=\"stacked\",\n",
    "            colors=colors,\n",
    "            labels=labels,\n",
    "            display_legend=True,\n",
    "            padding=0.4,\n",
    "        )\n",
    "        self.fig = bq.Figure(title=FIGURE_TITLE, axes=[self.xax, self.yax], legend_location=\"top-right\")#\n",
    "        super().__init__([self.hbx_topbar, self.fig])\n",
    "        self._init_controls()\n",
    "        self._set_chart()\n",
    "\n",
    "    def _init_controls(self):\n",
    "        self.select.observe(self._set_chart)\n",
    "\n",
    "    def _get_y(self, data: dict[str, np.array]) -> np.array:\n",
    "        data_copy = copy.deepcopy(data)\n",
    "        baseline = data_copy.pop(\"existing building\")\n",
    "        arrays = np.array(list(data_copy.values()))\n",
    "        input_y = np.array([baseline])\n",
    "        for idx, array in enumerate(arrays):\n",
    "            diff = input_y[-1] - arrays[idx]\n",
    "            input_y = np.vstack([input_y, diff])\n",
    "        return input_y\n",
    "\n",
    "    @property\n",
    "    def filtered_data(self):\n",
    "        return {\"existing building\": self.data[\"existing building\"]} | {k: v for k, v in self.data.items() if k in self.select.value}\n",
    "    \n",
    "    @property\n",
    "    def calc_y(self):\n",
    "        return self._get_y(self.filtered_data)\n",
    "        \n",
    "    def _set_chart(self, onchange=None):\n",
    "        self.bar = \n",
    "        self.xs.domain = [\"existing building\"] + list(self.select.value)\n",
    "        self.fig.marks = [self.bar]\n",
    "        self._update_saving()\n",
    "\n",
    "    def _update_saving(self):\n",
    "        y = self.calc_y\n",
    "        self.total_saving = np.round((1 - (y[-1].sum() / y[0].sum())) * 100, 0)\n",
    "        \n",
    "labels = ['Heating', 'Domestic Hot Water'] # , 'Auxiliary', 'Lighting', 'Small Power', 'PV Generation'\n",
    "colors = [MAP_COLORS[x] for x in labels]\n",
    "data = {\n",
    "    \"existing building\": np.array([60, 20]),\n",
    "    \"replace glazing\": np.array([10, 0]),\n",
    "    \"improve airtightness\": np.array([5, 0]),\n",
    "    \"add efficient heat source\": np.array([5, 12]),\n",
    "    \"improve controls\": np.array([0, 0]),\n",
    "    \"update lighting to LED\": np.array([0, 0]),\n",
    "    \"add PV panels\": np.array([0, 0]),\n",
    "}\n",
    "savings = {\n",
    "    \"replace glazing\": 0.1,\n",
    "    \"improve air tightness\": 0.1,\n",
    "    \"add roof insulation\": 0.1,\n",
    "    \"replace gas heating for air source heat pump\": 0.7\n",
    "}\n",
    "\n",
    "chart = EnergyConsumption(data)\n",
    "display(chart)"
   ]
  },
  {
   "cell_type": "code",
   "execution_count": 47,
   "metadata": {},
   "outputs": [
    {
     "data": {
      "text/plain": [
       "{'existing building': array([60, 20]),\n",
       " 'replace glazing': array([54., 18.]),\n",
       " 'improve air tightness': array([48.6, 16.2]),\n",
       " 'replace gas heating for air source heat pump': array([14.58,  4.86])}"
      ]
     },
     "execution_count": 47,
     "metadata": {},
     "output_type": "execute_result"
    }
   ],
   "source": [
    "data = {\n",
    "    \"existing building\": np.array([60, 20]),\n",
    "    # \"replace glazing\": np.array([10, 0]),\n",
    "    # \"improve airtightness\": np.array([5, 0]),\n",
    "    # \"add efficient heat source\": np.array([5, 12]),\n",
    "    # \"improve controls\": np.array([0, 0]),\n",
    "    # \"update lighting to LED\": np.array([0, 0]),\n",
    "    # \"add PV panels\": np.array([0, 0]),\n",
    "}\n",
    "savings = {\n",
    "    \"replace glazing\": 0.1,\n",
    "    \"improve air tightness\": 0.1,\n",
    "    \"add roof insulation\": 0.1,\n",
    "    \"replace gas heating for air source heat pump\": 0.7\n",
    "}\n",
    "\n",
    "selected = [\"replace glazing\", \"improve air tightness\", \"replace gas heating for air source heat pump\"]\n",
    "\n",
    "def calc_savings(data, selected):\n",
    "    keys = list(data.keys())\n",
    "    for n, x in enumerate(selected):\n",
    "        data[x] = data[keys[n]] - (data[keys[n]] * savings[x])\n",
    "        keys = list(data.keys())\n",
    "    return data\n",
    "\n",
    "calc_savings(data, selected)"
   ]
  },
  {
   "cell_type": "code",
   "execution_count": 67,
   "metadata": {},
   "outputs": [
    {
     "data": {
      "application/vnd.jupyter.widget-view+json": {
       "model_id": "985a61c977014bd3bf9ce9a278c042c2",
       "version_major": 2,
       "version_minor": 0
      },
      "text/plain": [
       "Figure(axes=[Axis(grid_lines='none', label='X', scale=OrdinalScale()), Axis(label='Y', orientation='vertical',…"
      ]
     },
     "execution_count": 67,
     "metadata": {},
     "output_type": "execute_result"
    }
   ],
   "source": [
    "def create_plot(x, y):\n",
    "    # create two vectors x and y to plot a bar chart\n",
    "    x = list(\"ABCDE\")\n",
    "    y = np.random.rand(5)\n",
    "    colors = [\"red\", \"green\"]\n",
    "    # 1. Create the scales\n",
    "    xs = bq.OrdinalScale()  # ordinal scale to represent categorical data\n",
    "    ys = bq.LinearScale()\n",
    "    \n",
    "    # 2. Create the axes for x and y\n",
    "    xax = bq.Axis(scale=xs, label=\"X\", grid_lines=\"none\")  # no grid lines needed for x\n",
    "    yax = bq.Axis(\n",
    "        scale=ys, orientation=\"vertical\", label=\"Y\", tick_format=\".0%\"\n",
    "    )  # note the use of tick_format to format ticks\n",
    "    \n",
    "    # 3. Create a Bars mark by passing in the scales\n",
    "    bar = bq.Bars(x=x, y=y, scales={\"x\": xs, \"y\": ys}, padding=0.5, colors=colors)\n",
    "    \n",
    "    # 4. Create a Figure object by assembling marks and axes\n",
    "    fig = bq.Figure(marks=[bar], axes=[xax, yax], title=\"Bar Chart\")\n",
    "    return fig, bar\n",
    "\n",
    "def update_plot(x, y, bar):\n",
    "    # use the hold_sync() context manager\n",
    "    with bar.hold_sync():\n",
    "        bar.x = x\n",
    "        bar.y = y\n",
    "    \n",
    "x = list(\"ABCDE\")\n",
    "y = np.random.rand(5)\n",
    "fig, bar = create_plot(x, y)\n",
    "fig"
   ]
  },
  {
   "cell_type": "code",
   "execution_count": 74,
   "metadata": {},
   "outputs": [],
   "source": [
    "x = random.choices(string.ascii_letters,k=5)\n",
    "y = np.random.rand(5)\n",
    "update_plot(x, y, bar)\n",
    "\n"
   ]
  },
  {
   "cell_type": "code",
   "execution_count": 69,
   "metadata": {},
   "outputs": [
    {
     "name": "stdout",
     "output_type": "stream",
     "text": [
      "QtSKy\n"
     ]
    }
   ],
   "source": [
    "import string\n",
    "import random\n",
    "\n",
    "# using random.choices() generating random strings\n",
    "res = ''.join(random.choices(string.ascii_letters,k=5))\n",
    "                             \n",
    "\n",
    "print(str(res))\n"
   ]
  },
  {
   "cell_type": "code",
   "execution_count": 52,
   "metadata": {},
   "outputs": [
    {
     "data": {
      "text/plain": [
       "array([0.15853944, 0.26520711, 0.44555846, 0.384998  , 0.16493682])"
      ]
     },
     "execution_count": 52,
     "metadata": {},
     "output_type": "execute_result"
    }
   ],
   "source": []
  }
 ],
 "metadata": {
  "kernelspec": {
   "display_name": "Python 3 (ipykernel)",
   "language": "python",
   "name": "python3"
  },
  "language_info": {
   "codemirror_mode": {
    "name": "ipython",
    "version": 3
   },
   "file_extension": ".py",
   "mimetype": "text/x-python",
   "name": "python",
   "nbconvert_exporter": "python",
   "pygments_lexer": "ipython3",
   "version": "3.13.0"
  },
  "vscode": {
   "interpreter": {
    "hash": "e7370f93d1d0cde622a1f8e1c04877d8463912d04d973331ad4851f04de6915a"
   }
  }
 },
 "nbformat": 4,
 "nbformat_minor": 4
}
