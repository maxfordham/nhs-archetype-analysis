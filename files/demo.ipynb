{
 "cells": [
  {
   "cell_type": "code",
   "execution_count": 1,
   "metadata": {
    "tags": []
   },
   "outputs": [],
   "source": [
    "import pandas as pd\n",
    "import numpy as np\n",
    "import ipywidgets as widgets\n",
    "from IPython.display import HTML"
   ]
  },
  {
   "cell_type": "code",
   "execution_count": 2,
   "metadata": {
    "tags": []
   },
   "outputs": [],
   "source": [
    "import bqplot as bq\n",
    "from bqplot import Figure, Scatter, Axis, LinearScale"
   ]
  },
  {
   "cell_type": "code",
   "execution_count": 3,
   "metadata": {
    "tags": []
   },
   "outputs": [],
   "source": [
    "EXPLANATION = \"\"\"\\\n",
    "<div class=\"app-sidebar\">\n",
    "<p><em>Compare different development indicators.</em><p>\n",
    "\n",
    "<p>Select what indicators to plot in the dropdowns, and use the slider\n",
    "to sub-select a fraction of years to include in the plot.</p>\n",
    "\n",
    "<p>Data and idea copied from the <a href=\"https://dash.plot.ly/getting-started-part-2\">\n",
    "Plotly Dash documentation</a>.</p>\n",
    "\n",
    "<p>This example demonstrates combining <a href=\"https://bqplot.github.io/bqplot\">\n",
    "bqplot</a> with Jupyter widgets.</p>\n",
    "</div>\n",
    "\"\"\""
   ]
  },
  {
   "cell_type": "code",
   "execution_count": 4,
   "metadata": {
    "tags": []
   },
   "outputs": [
    {
     "data": {
      "text/html": [
       "<style>\n",
       ".app-subtitle {\n",
       "    font-size: 1.5em;\n",
       "}\n",
       "\n",
       ".app-subtitle a {\n",
       "    color: #106ba3;\n",
       "}\n",
       "\n",
       ".app-subtitle a:hover {\n",
       "    text-decoration: underline;\n",
       "}\n",
       "\n",
       ".app-sidebar p {\n",
       "    margin-bottom: 1em;\n",
       "    line-height: 1.7;\n",
       "}\n",
       "\n",
       ".app-sidebar a {\n",
       "    color: #106ba3;\n",
       "}\n",
       "\n",
       ".app-sidebar a:hover {\n",
       "    text-decoration: underline;\n",
       "}\n",
       "</style>\n"
      ],
      "text/plain": [
       "<IPython.core.display.HTML object>"
      ]
     },
     "execution_count": 4,
     "metadata": {},
     "output_type": "execute_result"
    }
   ],
   "source": [
    "HTML(\"\"\"\\\n",
    "<style>\n",
    ".app-subtitle {\n",
    "    font-size: 1.5em;\n",
    "}\n",
    "\n",
    ".app-subtitle a {\n",
    "    color: #106ba3;\n",
    "}\n",
    "\n",
    ".app-subtitle a:hover {\n",
    "    text-decoration: underline;\n",
    "}\n",
    "\n",
    ".app-sidebar p {\n",
    "    margin-bottom: 1em;\n",
    "    line-height: 1.7;\n",
    "}\n",
    "\n",
    ".app-sidebar a {\n",
    "    color: #106ba3;\n",
    "}\n",
    "\n",
    ".app-sidebar a:hover {\n",
    "    text-decoration: underline;\n",
    "}\n",
    "</style>\n",
    "\"\"\")"
   ]
  },
  {
   "cell_type": "code",
   "execution_count": 5,
   "metadata": {
    "tags": []
   },
   "outputs": [],
   "source": [
    "class App:\n",
    "\n",
    "    def __init__(self, df):\n",
    "        self._df = df\n",
    "        available_indicators = self._df['Indicator Name'].unique()\n",
    "        self._x_dropdown = self._create_indicator_dropdown(available_indicators, 0)\n",
    "        self._y_dropdown = self._create_indicator_dropdown(available_indicators, 1)\n",
    "\n",
    "        x_scale = LinearScale()\n",
    "        y_scale = LinearScale()\n",
    "\n",
    "        self._x_axis = Axis(scale=x_scale, label=\"X\")\n",
    "        self._y_axis = Axis(scale=y_scale, orientation=\"vertical\", label=\"Y\")\n",
    "\n",
    "        self._scatter = Scatter(\n",
    "            x=[], y=[], scales={\"x\": x_scale, \"y\": y_scale}\n",
    "        )\n",
    "\n",
    "        self._figure = Figure(marks=[self._scatter], axes=[self._x_axis, self._y_axis], layout=dict(width=\"99%\"), animation_duration=1000)\n",
    "\n",
    "        self._year_slider, year_slider_box = self._create_year_slider(\n",
    "            min(df['Year']), max(df['Year'])\n",
    "        )\n",
    "        _app_container = widgets.VBox([\n",
    "            widgets.HBox([self._x_dropdown, self._y_dropdown]),\n",
    "            self._figure,\n",
    "            year_slider_box\n",
    "        ], layout=widgets.Layout(align_items='center', flex='3 0 auto'))\n",
    "        self.container = widgets.VBox([\n",
    "            widgets.HTML(\n",
    "                (\n",
    "                    '<h1>Development indicators. A Voici dashboard, running entirely in your browser!</h1>'\n",
    "                    '<h2 class=\"app-subtitle\"><a href=\"https://github.com/pbugnion/voila-gallery/blob/master/country-indicators/index.ipynb\">Link to code</a></h2>'\n",
    "                ),\n",
    "                layout=widgets.Layout(margin='0 0 5em 0')\n",
    "            ),\n",
    "            widgets.HBox([\n",
    "                _app_container,\n",
    "                widgets.HTML(EXPLANATION, layout=widgets.Layout(margin='0 0 0 2em'))\n",
    "            ])\n",
    "        ], layout=widgets.Layout(flex='1 1 auto', margin='0 auto 0 auto', max_width='1024px'))\n",
    "        self._update_app()\n",
    "\n",
    "    @classmethod\n",
    "    def from_csv(cls, path):\n",
    "        df = pd.read_csv(path)\n",
    "        return cls(df)\n",
    "\n",
    "    def _create_indicator_dropdown(self, indicators, initial_index):\n",
    "        dropdown = widgets.Dropdown(options=indicators, value=indicators[initial_index])\n",
    "        dropdown.observe(self._on_change, names=['value'])\n",
    "        return dropdown\n",
    "\n",
    "    def _create_year_slider(self, min_year, max_year):\n",
    "        year_slider_label = widgets.Label('Year range: ')\n",
    "        year_slider = widgets.IntRangeSlider(\n",
    "            min=min_year, max=max_year,\n",
    "            layout=widgets.Layout(width='500px'),\n",
    "            continuous_update=False\n",
    "        )\n",
    "        year_slider.observe(self._on_change, names=['value'])\n",
    "        year_slider_box = widgets.HBox([year_slider_label, year_slider])\n",
    "        return year_slider, year_slider_box\n",
    "\n",
    "    def _on_change(self, _):\n",
    "        self._update_app()\n",
    "\n",
    "    def _update_app(self):\n",
    "        x_indicator = self._x_dropdown.value\n",
    "        y_indicator = self._y_dropdown.value\n",
    "        year_range = self._year_slider.value\n",
    "\n",
    "        with self._scatter.hold_sync():\n",
    "            df = self._df[self._df['Year'].between(*year_range)].dropna()\n",
    "            x = df[df['Indicator Name'] == x_indicator]['Value']\n",
    "            y = df[df['Indicator Name'] == y_indicator]['Value']\n",
    "\n",
    "            self._x_axis.label = x_indicator\n",
    "            self._y_axis.label = y_indicator\n",
    "\n",
    "            self._scatter.default_opacities = [0.2]\n",
    "\n",
    "            self._scatter.x = x\n",
    "            self._scatter.y = y"
   ]
  },
  {
   "cell_type": "code",
   "execution_count": 6,
   "metadata": {
    "tags": []
   },
   "outputs": [
    {
     "data": {
      "application/vnd.jupyter.widget-view+json": {
       "model_id": "251d788ed04f406ab554bc4104498567",
       "version_major": 2,
       "version_minor": 0
      },
      "text/plain": [
       "VBox(children=(HTML(value='<h1>Development indicators. A Voici dashboard, running entirely in your browser!</h…"
      ]
     },
     "execution_count": 6,
     "metadata": {},
     "output_type": "execute_result"
    }
   ],
   "source": [
    "app = App.from_csv(\"indicators.csv\")\n",
    "\n",
    "app.container"
   ]
  },
  {
   "cell_type": "code",
   "execution_count": 7,
   "metadata": {},
   "outputs": [
    {
     "data": {
      "application/vnd.jupyter.widget-view+json": {
       "model_id": "ef5cde70867341da885b992c953cf5d5",
       "version_major": 2,
       "version_minor": 0
      },
      "text/plain": [
       "EnergyConsumption(children=(SelectMultiple(layout=Layout(height='120px'), options=('replace glazing', 'improve…"
      ]
     },
     "metadata": {},
     "output_type": "display_data"
    }
   ],
   "source": [
    "import copy\n",
    "import traitlets as tr\n",
    "\n",
    "map_colors = {'Heating': '#c22324',\n",
    " 'Domestic Hot Water': '#ff7f0e',\n",
    " 'Heating & Domestic Hot Water': '#eb4f18',\n",
    " 'Cooling': '#1f77b4',\n",
    " 'Auxiliary': '#9467bd',\n",
    " 'Lighting': '#17becf',\n",
    " 'Small Power': '#d3d3d3',\n",
    " 'IT/Servers': '#8c564b',\n",
    " 'PV Generation': '#bcbd22',\n",
    " 'Catering': '#2ca02c',\n",
    " 'Lifts': '#e377c2',\n",
    " 'Other': '#000000',\n",
    " 'Unknown': '#7C7270'}\n",
    "\n",
    "labels = ['Heating', 'Domestic Hot Water', 'Cooling', 'Auxiliary', 'Lighting', 'Small Power', 'PV Generation']\n",
    "colors = [map_colors[x] for x in labels]\n",
    "\n",
    "class EnergyConsumption(widgets.VBox):     \n",
    "    def __init__(self, data: dict[str, np.array]):\n",
    "        if \"existing building\" not in data:\n",
    "            raise ValueError(\"`existing building` data missing.\")\n",
    "        self.data = data\n",
    "        options = [k for k in data.keys() if k != \"existing building\"]\n",
    "        self.select = widgets.SelectMultiple(options=options, layout={\"height\": \"120px\"})\n",
    "        self.xs = bq.OrdinalScale()  # ordinal scale to represent categorical data\n",
    "        self.ys = bq.LinearScale()\n",
    "        self.xax = bq.Axis(scale=self.xs, grid_lines=\"none\")  # no grid lines needed for x\n",
    "        self.yax = bq.Axis(\n",
    "            scale=self.ys, orientation=\"vertical\", label=\"Energy Consumption (kWh/m2/yr)\"\n",
    "        )\n",
    "        self.fig = bq.Figure(title=\"Energy Consumption\", axes=[self.xax, self.yax])\n",
    "        super().__init__([self.select, self.fig])\n",
    "        self._init_controls()\n",
    "        self._set_chart()\n",
    "\n",
    "    def _init_controls(self):\n",
    "        self.select.observe(self._set_chart)\n",
    "    \n",
    "    def _get_y(self, data: dict[str, np.array]) -> np.array:\n",
    "        data_copy = copy.deepcopy(data)\n",
    "        baseline = data_copy.pop(\"existing building\")\n",
    "        arrays = np.array(list(data_copy.values()))\n",
    "        input_y = np.array([baseline])\n",
    "        for idx, array in enumerate(arrays):\n",
    "            diff = input_y[-1] - arrays[idx]\n",
    "            input_y = np.vstack([input_y, diff])\n",
    "        return input_y\n",
    "\n",
    "    def _set_chart(self, onchange=None):\n",
    "        filtered_data = {\"existing building\": self.data[\"existing building\"]} | {k: v for k, v in self.data.items() if k in self.select.value}\n",
    "        self.bar = bq.Bars(\n",
    "            x=np.array(list(filtered_data.keys())),\n",
    "            y=np.transpose(self._get_y(filtered_data)),\n",
    "            scales={\"x\": self.xs, \"y\": self.ys},\n",
    "            type=\"stacked\",\n",
    "            colors=colors,\n",
    "            labels=labels,\n",
    "            display_legend=True,\n",
    "            padding=0.4,\n",
    "        )\n",
    "        self.xs.domain = [\"existing building\"] + list(self.select.value)\n",
    "        self.fig.marks = [self.bar]\n",
    "        \n",
    "\n",
    "data = {\n",
    "    \"existing building\": np.array([25, 23, 11, 13, 17, 15, 0]),\n",
    "    \"replace glazing\": np.array([8, 3, 2, 1, 1, 3, 0]),\n",
    "    \"improve airtightness\": np.array([4, 3, 2, 1, 1, 3, 0]),\n",
    "    \"replace heat source with an efficient ASHP\": np.array([4, 3, 2, 1, 1, 3, 0]),\n",
    "    \"update lighting to LED\": np.array([3, 3, 2, 1, 1, 3, 0]),\n",
    "    \"add PV panels\": np.array([2, 3, 1, 1, 1, 3, 0]),\n",
    "}\n",
    "\n",
    "chart = EnergyConsumption(data)\n",
    "display(chart)"
   ]
  }
 ],
 "metadata": {
  "kernelspec": {
   "display_name": "Python 3 (ipykernel)",
   "language": "python",
   "name": "python3"
  },
  "language_info": {
   "codemirror_mode": {
    "name": "ipython",
    "version": 3
   },
   "file_extension": ".py",
   "mimetype": "text/x-python",
   "name": "python",
   "nbconvert_exporter": "python",
   "pygments_lexer": "ipython3",
   "version": "3.10.14"
  },
  "vscode": {
   "interpreter": {
    "hash": "e7370f93d1d0cde622a1f8e1c04877d8463912d04d973331ad4851f04de6915a"
   }
  }
 },
 "nbformat": 4,
 "nbformat_minor": 4
}
