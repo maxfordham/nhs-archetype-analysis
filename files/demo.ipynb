{
 "cells": [
  {
   "cell_type": "code",
   "execution_count": 1,
   "metadata": {
    "tags": []
   },
   "outputs": [],
   "source": [
    "import pandas as pd\n",
    "import numpy as np\n",
    "import ipywidgets as w\n",
    "from IPython.display import HTML\n",
    "import bqplot as bq\n",
    "import copy\n",
    "import traitlets as tr"
   ]
  },
  {
   "cell_type": "code",
   "execution_count": 2,
   "metadata": {},
   "outputs": [
    {
     "data": {
      "application/vnd.jupyter.widget-view+json": {
       "model_id": "f13e683d28ac41f88e811cde211e1f51",
       "version_major": 2,
       "version_minor": 0
      },
      "text/plain": [
       "EnergyConsumption(children=(HBox(children=(VBox(children=(HTML(value='<h1>NHS Archetypes - Decarbonisation Pat…"
      ]
     },
     "metadata": {},
     "output_type": "display_data"
    }
   ],
   "source": [
    "MAP_COLORS = {'Heating': '#c22324',\n",
    " 'Domestic Hot Water': '#ff7f0e',\n",
    " 'Heating & Domestic Hot Water': '#eb4f18',\n",
    " 'Cooling': '#1f77b4',\n",
    " 'Auxiliary': '#9467bd',\n",
    " 'Lighting': '#17becf',\n",
    " 'Small Power': '#d3d3d3',\n",
    " 'IT/Servers': '#8c564b',\n",
    " 'PV Generation': '#bcbd22',\n",
    " 'Catering': '#2ca02c',\n",
    " 'Lifts': '#e377c2',\n",
    " 'Other': '#000000',\n",
    " 'Unknown': '#7C7270'}\n",
    "\n",
    "HEADER = \"\"\"<h1>NHS Archetypes - Decarbonisation Pathways Analysis and Visualisation</h1>\n",
    "\n",
    "<ul>\n",
    "  <li>This app is a dummy demo, illustrating the type of front-end that can be expected for visualising different decarbonisation pathways</li>\n",
    "  <li>It runs on <code>python</code> code in the browser and can be deployed as a static HTML website</li>\n",
    "  <li>This is an illustrative example but the calculation would be developed to consider the different archetypes within the NHS portfolio</li>\n",
    "  <li>Choose from the possible design interventions to understand the incremental savings that are available (the numbers are made up)</li>\n",
    "</ul> \n",
    "\"\"\"\n",
    "\n",
    "class EnergyConsumption(w.VBox):     \n",
    "    total_saving = tr.Float()\n",
    "\n",
    "    @tr.observe(\"total_saving\")\n",
    "    def obs_total_saving(self, on_change):\n",
    "        self.html_total_saving.value = f\"<b>Total Saving</b> = {self.total_saving}%\"\n",
    "        \n",
    "    def __init__(self, data: dict[str, np.array]):\n",
    "        if \"existing building\" not in data:\n",
    "            raise ValueError(\"`existing building` data missing.\")\n",
    "        self.data = data\n",
    "        options = [k for k in data.keys() if k != \"existing building\"]\n",
    "        self.html_total_saving = w.HTML()\n",
    "        self.select = w.SelectMultiple(options=options, layout={\"height\": \"150px\", \"width\": \"400px\"})\n",
    "        self.vbx_select = w.VBox([w.HTML(\"<b>Select multiple possible the design interventions:</b>\"), self.select])\n",
    "        self.hbx_topbar = w.HBox([w.VBox([w.HTML(HEADER), self.html_total_saving]), self.vbx_select], layout={\"justify_content\":\"space-between\"})\n",
    "        self.xs = bq.OrdinalScale()  # ordinal scale to represent categorical data\n",
    "        self.ys = bq.LinearScale()\n",
    "        self.xax = bq.Axis(scale=self.xs, grid_lines=\"none\")  # no grid lines needed for x\n",
    "        self.yax = bq.Axis(\n",
    "            scale=self.ys, orientation=\"vertical\", label=\"Energy Consumption (kWh/m2/yr)\"\n",
    "        )\n",
    "        self.fig = bq.Figure(title=\"Annual Energy Consumption\", axes=[self.xax, self.yax], legend_location=\"top-right\")#\n",
    "        super().__init__([self.hbx_topbar, self.fig])\n",
    "        self._init_controls()\n",
    "        self._set_chart()\n",
    "\n",
    "    def _init_controls(self):\n",
    "        self.select.observe(self._set_chart)\n",
    "    \n",
    "    def _get_y(self, data: dict[str, np.array]) -> np.array:\n",
    "        data_copy = copy.deepcopy(data)\n",
    "        baseline = data_copy.pop(\"existing building\")\n",
    "        arrays = np.array(list(data_copy.values()))\n",
    "        input_y = np.array([baseline])\n",
    "        for idx, array in enumerate(arrays):\n",
    "            diff = input_y[-1] - arrays[idx]\n",
    "            input_y = np.vstack([input_y, diff])\n",
    "        return input_y\n",
    "\n",
    "    @property\n",
    "    def filtered_data(self):\n",
    "        return {\"existing building\": self.data[\"existing building\"]} | {k: v for k, v in self.data.items() if k in self.select.value}\n",
    "    \n",
    "    @property\n",
    "    def calc_y(self):\n",
    "        return self._get_y(self.filtered_data)\n",
    "        \n",
    "    def _set_chart(self, onchange=None):\n",
    "        self.bar = bq.Bars(\n",
    "            x=np.array(list(self.filtered_data.keys())),\n",
    "            y=np.transpose(self.calc_y),\n",
    "            scales={\"x\": self.xs, \"y\": self.ys},\n",
    "            type=\"stacked\",\n",
    "            colors=colors,\n",
    "            labels=labels,\n",
    "            display_legend=True,\n",
    "            padding=0.4,\n",
    "        )\n",
    "        self.xs.domain = [\"existing building\"] + list(self.select.value)\n",
    "        self.fig.marks = [self.bar]\n",
    "        self._update_saving()\n",
    "\n",
    "    def _update_saving(self):\n",
    "        y = self.calc_y\n",
    "        self.total_saving = np.round((1 - (y[-1].sum() / y[0].sum())) * 100, 0)\n",
    "        \n",
    "labels = ['Heating', 'Domestic Hot Water', 'Auxiliary', 'Lighting', 'Small Power', 'PV Generation']\n",
    "colors = [MAP_COLORS[x] for x in labels]\n",
    "data = {\n",
    "    \"existing building\": np.array([25, 23, 11, 13, 15, 0]),\n",
    "    \"replace glazing\": np.array([10, 0, 0, 0, 0, 0]),\n",
    "    \"improve airtightness\": np.array([5, 0, 0, 0, 0, 0]),\n",
    "    \"add efficient heat source\": np.array([5, 12, 0, 0, 0, 0]),\n",
    "    \"improve controls\": np.array([0, 0, 3, 0, 0, 0]),\n",
    "    \"update lighting to LED\": np.array([0, 0, 0, 5, 0, 0]),\n",
    "    \"add PV panels\": np.array([0, 0, 0, 0,  0, 10]),\n",
    "}\n",
    "\n",
    "chart = EnergyConsumption(data)\n",
    "display(chart)"
   ]
  }
 ],
 "metadata": {
  "kernelspec": {
   "display_name": "Python 3 (ipykernel)",
   "language": "python",
   "name": "python3"
  },
  "language_info": {
   "codemirror_mode": {
    "name": "ipython",
    "version": 3
   },
   "file_extension": ".py",
   "mimetype": "text/x-python",
   "name": "python",
   "nbconvert_exporter": "python",
   "pygments_lexer": "ipython3",
   "version": "3.13.0"
  },
  "vscode": {
   "interpreter": {
    "hash": "e7370f93d1d0cde622a1f8e1c04877d8463912d04d973331ad4851f04de6915a"
   }
  }
 },
 "nbformat": 4,
 "nbformat_minor": 4
}
